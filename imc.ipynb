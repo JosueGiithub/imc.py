{
  "nbformat": 4,
  "nbformat_minor": 0,
  "metadata": {
    "colab": {
      "provenance": [],
      "authorship_tag": "ABX9TyPDTn2DhAyxpgg5NwTTpQbe",
      "include_colab_link": true
    },
    "kernelspec": {
      "name": "python3",
      "display_name": "Python 3"
    },
    "language_info": {
      "name": "python"
    }
  },
  "cells": [
    {
      "cell_type": "markdown",
      "metadata": {
        "id": "view-in-github",
        "colab_type": "text"
      },
      "source": [
        "<a href=\"https://colab.research.google.com/github/JosueGiithub/imc.py/blob/main/imc.ipynb\" target=\"_parent\"><img src=\"https://colab.research.google.com/assets/colab-badge.svg\" alt=\"Open In Colab\"/></a>"
      ]
    },
    {
      "cell_type": "code",
      "execution_count": null,
      "metadata": {
        "id": "4qaWm-EXrmuH"
      },
      "outputs": [],
      "source": [
        "peso = int(input(\"Informe seu peso:\"))\n",
        "altura = float(input(\"Informe sua altura:\"))\n",
        "imc = peso / (altura * altura)\n",
        "print(\"Seu IMC é:\", imc)\n",
        "if imc < 16.9:\n",
        "  print(\"Muito abaixo do peso\")\n",
        "\n",
        "elif imc >= 17 and imc <= 18.4:\n",
        "  print(\"Abaixo do peso\")\n",
        "\n",
        "elif imc >= 18.5 and imc <= 24.9:\n",
        "  print(\"Peso normal\")\n",
        "\n",
        "elif imc >=25 and imc <= 29.9:\n",
        "  print(\"Acima do peso\")\n",
        "\n",
        "elif imc >= 30 and imc <=24.9:\n",
        "  print(\"Obesidade grau I\")\n",
        "\n",
        "elif imc >= 35 and imc <= 40:\n",
        "  print(\"Obesidade grau II\")\n",
        "\n",
        "elif imc > 40:\n",
        "  print(\"Obesidade grau III\")"
      ]
    }
  ]
}